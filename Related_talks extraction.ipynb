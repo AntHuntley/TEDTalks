{
 "cells": [
  {
   "cell_type": "code",
   "execution_count": 109,
   "metadata": {},
   "outputs": [],
   "source": [
    "import pandas as pd\n",
    "import numpy as np"
   ]
  },
  {
   "cell_type": "code",
   "execution_count": 110,
   "metadata": {},
   "outputs": [
    {
     "data": {
      "text/plain": [
       "Index(['ID', 'Label', 'Title', 'description', 'main_speaker',\n",
       "       'speaker_occupation', 'num_speaker', 'duration', 'event', 'film_date',\n",
       "       'published_date', 'comments', 'tags', 'languages', 'ratings',\n",
       "       'related_talks', 'url', 'views'],\n",
       "      dtype='object')"
      ]
     },
     "execution_count": 110,
     "metadata": {},
     "output_type": "execute_result"
    }
   ],
   "source": [
    "#Load Data\n",
    "df = pd.read_excel('/Users/ahuntley@uk.ibm.com/Desktop/Data_Science_Learning/*Python/TED Talks/TEDtalks_Date_Added - Kumu 1 line.xlsx', index_col=False)\n",
    "df.columns"
   ]
  },
  {
   "cell_type": "code",
   "execution_count": 111,
   "metadata": {},
   "outputs": [
    {
     "data": {
      "text/html": [
       "<div>\n",
       "<style scoped>\n",
       "    .dataframe tbody tr th:only-of-type {\n",
       "        vertical-align: middle;\n",
       "    }\n",
       "\n",
       "    .dataframe tbody tr th {\n",
       "        vertical-align: top;\n",
       "    }\n",
       "\n",
       "    .dataframe thead th {\n",
       "        text-align: right;\n",
       "    }\n",
       "</style>\n",
       "<table border=\"1\" class=\"dataframe\">\n",
       "  <thead>\n",
       "    <tr style=\"text-align: right;\">\n",
       "      <th></th>\n",
       "      <th>ID</th>\n",
       "      <th>Label</th>\n",
       "      <th>Title</th>\n",
       "      <th>description</th>\n",
       "      <th>main_speaker</th>\n",
       "      <th>speaker_occupation</th>\n",
       "      <th>num_speaker</th>\n",
       "      <th>duration</th>\n",
       "      <th>event</th>\n",
       "      <th>film_date</th>\n",
       "      <th>published_date</th>\n",
       "      <th>comments</th>\n",
       "      <th>tags</th>\n",
       "      <th>languages</th>\n",
       "      <th>ratings</th>\n",
       "      <th>related_talks</th>\n",
       "      <th>url</th>\n",
       "      <th>views</th>\n",
       "    </tr>\n",
       "  </thead>\n",
       "  <tbody>\n",
       "    <tr>\n",
       "      <th>0</th>\n",
       "      <td>0</td>\n",
       "      <td>Do schools kill creativity?</td>\n",
       "      <td>Ken Robinson: Do schools kill creativity?</td>\n",
       "      <td>Sir Ken Robinson makes an entertaining and pro...</td>\n",
       "      <td>Ken Robinson</td>\n",
       "      <td>Author/educator</td>\n",
       "      <td>1</td>\n",
       "      <td>1164</td>\n",
       "      <td>TED2006</td>\n",
       "      <td>2006-02-25</td>\n",
       "      <td>2006-06-27</td>\n",
       "      <td>4553</td>\n",
       "      <td>children|creativity|culture|dance|education|pa...</td>\n",
       "      <td>60</td>\n",
       "      <td>[{'id': 7, 'name': 'Funny', 'count': 19645}, {...</td>\n",
       "      <td>[{'id': 865, 'hero': 'https://pe.tedcdn.com/im...</td>\n",
       "      <td>https://www.ted.com/talks/ken_robinson_says_sc...</td>\n",
       "      <td>47227110</td>\n",
       "    </tr>\n",
       "  </tbody>\n",
       "</table>\n",
       "</div>"
      ],
      "text/plain": [
       "   ID                        Label                                      Title  \\\n",
       "0   0  Do schools kill creativity?  Ken Robinson: Do schools kill creativity?   \n",
       "\n",
       "                                         description  main_speaker  \\\n",
       "0  Sir Ken Robinson makes an entertaining and pro...  Ken Robinson   \n",
       "\n",
       "  speaker_occupation  num_speaker  duration    event   film_date  \\\n",
       "0    Author/educator            1      1164  TED2006  2006-02-25   \n",
       "\n",
       "  published_date  comments                                               tags  \\\n",
       "0     2006-06-27      4553  children|creativity|culture|dance|education|pa...   \n",
       "\n",
       "   languages                                            ratings  \\\n",
       "0         60  [{'id': 7, 'name': 'Funny', 'count': 19645}, {...   \n",
       "\n",
       "                                       related_talks  \\\n",
       "0  [{'id': 865, 'hero': 'https://pe.tedcdn.com/im...   \n",
       "\n",
       "                                                 url     views  \n",
       "0  https://www.ted.com/talks/ken_robinson_says_sc...  47227110  "
      ]
     },
     "execution_count": 111,
     "metadata": {},
     "output_type": "execute_result"
    }
   ],
   "source": [
    "df.head()"
   ]
  },
  {
   "cell_type": "code",
   "execution_count": null,
   "metadata": {},
   "outputs": [],
   "source": []
  },
  {
   "cell_type": "markdown",
   "metadata": {},
   "source": [
    "# Extracting data from list of dictionary"
   ]
  },
  {
   "cell_type": "code",
   "execution_count": 112,
   "metadata": {},
   "outputs": [
    {
     "data": {
      "text/plain": [
       "[1.0, 1.0]"
      ]
     },
     "execution_count": 112,
     "metadata": {},
     "output_type": "execute_result"
    }
   ],
   "source": [
    "t = [{'id': 1.0, 'b': 2.0},\n",
    "    {'id': 1.0, 'b': 2.0}]\n",
    "\n",
    "new_list = [i['id'] for i in t]\n",
    "new_list"
   ]
  },
  {
   "cell_type": "code",
   "execution_count": 142,
   "metadata": {},
   "outputs": [
    {
     "data": {
      "text/plain": [
       "0    [{'id': 865, 'hero': 'https://pe.tedcdn.com/im...\n",
       "Name: related_talks, dtype: object"
      ]
     },
     "execution_count": 142,
     "metadata": {},
     "output_type": "execute_result"
    }
   ],
   "source": [
    "df2 = df['related_talks']\n",
    "df2"
   ]
  },
  {
   "cell_type": "code",
   "execution_count": null,
   "metadata": {},
   "outputs": [],
   "source": []
  },
  {
   "cell_type": "code",
   "execution_count": 134,
   "metadata": {},
   "outputs": [
    {
     "ename": "TypeError",
     "evalue": "string indices must be integers",
     "output_type": "error",
     "traceback": [
      "\u001b[0;31m---------------------------------------------------------------------------\u001b[0m",
      "\u001b[0;31mTypeError\u001b[0m                                 Traceback (most recent call last)",
      "\u001b[0;32m<ipython-input-134-4888825ba7c4>\u001b[0m in \u001b[0;36m<module>\u001b[0;34m\u001b[0m\n\u001b[0;32m----> 1\u001b[0;31m \u001b[0mnew_list\u001b[0m \u001b[0;34m=\u001b[0m \u001b[0;34m[\u001b[0m\u001b[0mi\u001b[0m\u001b[0;34m[\u001b[0m\u001b[0;34m'id'\u001b[0m\u001b[0;34m]\u001b[0m \u001b[0;32mfor\u001b[0m \u001b[0mi\u001b[0m \u001b[0;32min\u001b[0m \u001b[0mdf2\u001b[0m\u001b[0;34m]\u001b[0m\u001b[0;34m.\u001b[0m\u001b[0mtolist\u001b[0m\u001b[0;34m(\u001b[0m\u001b[0;34m)\u001b[0m\u001b[0;34m\u001b[0m\u001b[0;34m\u001b[0m\u001b[0m\n\u001b[0m\u001b[1;32m      2\u001b[0m \u001b[0mnew_list\u001b[0m\u001b[0;34m\u001b[0m\u001b[0;34m\u001b[0m\u001b[0m\n",
      "\u001b[0;32m<ipython-input-134-4888825ba7c4>\u001b[0m in \u001b[0;36m<listcomp>\u001b[0;34m(.0)\u001b[0m\n\u001b[0;32m----> 1\u001b[0;31m \u001b[0mnew_list\u001b[0m \u001b[0;34m=\u001b[0m \u001b[0;34m[\u001b[0m\u001b[0mi\u001b[0m\u001b[0;34m[\u001b[0m\u001b[0;34m'id'\u001b[0m\u001b[0;34m]\u001b[0m \u001b[0;32mfor\u001b[0m \u001b[0mi\u001b[0m \u001b[0;32min\u001b[0m \u001b[0mdf2\u001b[0m\u001b[0;34m]\u001b[0m\u001b[0;34m.\u001b[0m\u001b[0mtolist\u001b[0m\u001b[0;34m(\u001b[0m\u001b[0;34m)\u001b[0m\u001b[0;34m\u001b[0m\u001b[0;34m\u001b[0m\u001b[0m\n\u001b[0m\u001b[1;32m      2\u001b[0m \u001b[0mnew_list\u001b[0m\u001b[0;34m\u001b[0m\u001b[0;34m\u001b[0m\u001b[0m\n",
      "\u001b[0;31mTypeError\u001b[0m: string indices must be integers"
     ]
    }
   ],
   "source": [
    "new_list = [i['id'] for i in df2]\n",
    "new_list"
   ]
  },
  {
   "cell_type": "code",
   "execution_count": 114,
   "metadata": {},
   "outputs": [],
   "source": [
    "df3 = [{'id': 184, 'hero': 'https://pe.tedcdn.com/images/ted/ca8d90c65e9e596127b720b648a07dfd2ea45e7d_2880x1620.jpg', 'speaker': 'VS Ramachandran', 'title': '3 clues to understanding your brain', 'duration': 1414, 'slug': 'vilayanur_ramachandran_on_your_mind', 'viewed_count': 3930197}, {'id': 236, 'hero': 'https://pe.tedcdn.com/images/ted/35408_480x360.jpg', 'speaker': 'Christopher deCharms', 'title': 'A look inside the brain in real time', 'duration': 242, 'slug': 'christopher_decharms_scans_the_brain_in_real_time', 'viewed_count': 1485761}, {'id': 189, 'hero': 'https://pe.tedcdn.com/images/ted/c2729c86ea38f47b15ccb09197deed76b50f8fa6_800x600.jpg', 'speaker': 'Sherwin Nuland', 'title': 'How electroshock therapy changed me', 'duration': 1338, 'slug': 'sherwin_nuland_on_electroshock_therapy', 'viewed_count': 1522860}, {'id': 2817, 'hero': 'https://pe.tedcdn.com/images/ted/940535a3dd68ca5bbe45fb7d54535a8990d46e4b_2880x1620.jpg', 'speaker': 'Anil Seth', 'title': 'Your brain hallucinates your conscious reality', 'duration': 1021, 'slug': 'anil_seth_how_your_brain_hallucinates_your_conscious_reality', 'viewed_count': 2663106}, {'id': 1186, 'hero': 'https://pe.tedcdn.com/images/ted/9921d6e3598986f8f1055d15d24a122f4aab3b95_800x600.jpg', 'speaker': 'Simon Lewis', 'title': \"Don't take consciousness for granted\", 'duration': 1337, 'slug': 'simon_lewis_don_t_take_consciousness_for_granted', 'viewed_count': 690949}, {'id': 1308, 'hero': 'https://pe.tedcdn.com/images/ted/483f84a4cd490b8a4ed1331c489ac04e09bf61b4_800x600.jpg', 'speaker': 'Antonio Damasio', 'title': 'The quest to understand consciousness', 'duration': 1122, 'slug': 'antonio_damasio_the_quest_to_understand_consciousness', 'viewed_count': 1692178}]"
   ]
  },
  {
   "cell_type": "code",
   "execution_count": 115,
   "metadata": {},
   "outputs": [
    {
     "data": {
      "text/plain": [
       "[184, 236, 189, 2817, 1186, 1308]"
      ]
     },
     "execution_count": 115,
     "metadata": {},
     "output_type": "execute_result"
    }
   ],
   "source": [
    "new_list = [i['id'] for i in df3]\n",
    "new_list"
   ]
  },
  {
   "cell_type": "code",
   "execution_count": 116,
   "metadata": {},
   "outputs": [
    {
     "data": {
      "text/plain": [
       "{'id': 236,\n",
       " 'hero': 'https://pe.tedcdn.com/images/ted/35408_480x360.jpg',\n",
       " 'speaker': 'Christopher deCharms',\n",
       " 'title': 'A look inside the brain in real time',\n",
       " 'duration': 242,\n",
       " 'slug': 'christopher_decharms_scans_the_brain_in_real_time',\n",
       " 'viewed_count': 1485761}"
      ]
     },
     "execution_count": 116,
     "metadata": {},
     "output_type": "execute_result"
    }
   ],
   "source": [
    "df3[1]"
   ]
  },
  {
   "cell_type": "code",
   "execution_count": 117,
   "metadata": {},
   "outputs": [
    {
     "data": {
      "text/plain": [
       "[{'id': 184,\n",
       "  'hero': 'https://pe.tedcdn.com/images/ted/ca8d90c65e9e596127b720b648a07dfd2ea45e7d_2880x1620.jpg',\n",
       "  'speaker': 'VS Ramachandran',\n",
       "  'title': '3 clues to understanding your brain',\n",
       "  'duration': 1414,\n",
       "  'slug': 'vilayanur_ramachandran_on_your_mind',\n",
       "  'viewed_count': 3930197},\n",
       " {'id': 236,\n",
       "  'hero': 'https://pe.tedcdn.com/images/ted/35408_480x360.jpg',\n",
       "  'speaker': 'Christopher deCharms',\n",
       "  'title': 'A look inside the brain in real time',\n",
       "  'duration': 242,\n",
       "  'slug': 'christopher_decharms_scans_the_brain_in_real_time',\n",
       "  'viewed_count': 1485761},\n",
       " {'id': 189,\n",
       "  'hero': 'https://pe.tedcdn.com/images/ted/c2729c86ea38f47b15ccb09197deed76b50f8fa6_800x600.jpg',\n",
       "  'speaker': 'Sherwin Nuland',\n",
       "  'title': 'How electroshock therapy changed me',\n",
       "  'duration': 1338,\n",
       "  'slug': 'sherwin_nuland_on_electroshock_therapy',\n",
       "  'viewed_count': 1522860},\n",
       " {'id': 2817,\n",
       "  'hero': 'https://pe.tedcdn.com/images/ted/940535a3dd68ca5bbe45fb7d54535a8990d46e4b_2880x1620.jpg',\n",
       "  'speaker': 'Anil Seth',\n",
       "  'title': 'Your brain hallucinates your conscious reality',\n",
       "  'duration': 1021,\n",
       "  'slug': 'anil_seth_how_your_brain_hallucinates_your_conscious_reality',\n",
       "  'viewed_count': 2663106},\n",
       " {'id': 1186,\n",
       "  'hero': 'https://pe.tedcdn.com/images/ted/9921d6e3598986f8f1055d15d24a122f4aab3b95_800x600.jpg',\n",
       "  'speaker': 'Simon Lewis',\n",
       "  'title': \"Don't take consciousness for granted\",\n",
       "  'duration': 1337,\n",
       "  'slug': 'simon_lewis_don_t_take_consciousness_for_granted',\n",
       "  'viewed_count': 690949},\n",
       " {'id': 1308,\n",
       "  'hero': 'https://pe.tedcdn.com/images/ted/483f84a4cd490b8a4ed1331c489ac04e09bf61b4_800x600.jpg',\n",
       "  'speaker': 'Antonio Damasio',\n",
       "  'title': 'The quest to understand consciousness',\n",
       "  'duration': 1122,\n",
       "  'slug': 'antonio_damasio_the_quest_to_understand_consciousness',\n",
       "  'viewed_count': 1692178}]"
      ]
     },
     "execution_count": 117,
     "metadata": {},
     "output_type": "execute_result"
    }
   ],
   "source": [
    "df3"
   ]
  },
  {
   "cell_type": "code",
   "execution_count": null,
   "metadata": {},
   "outputs": [],
   "source": []
  },
  {
   "cell_type": "code",
   "execution_count": null,
   "metadata": {},
   "outputs": [],
   "source": []
  },
  {
   "cell_type": "code",
   "execution_count": null,
   "metadata": {},
   "outputs": [],
   "source": []
  },
  {
   "cell_type": "code",
   "execution_count": null,
   "metadata": {},
   "outputs": [],
   "source": []
  },
  {
   "cell_type": "code",
   "execution_count": null,
   "metadata": {},
   "outputs": [],
   "source": []
  }
 ],
 "metadata": {
  "kernelspec": {
   "display_name": "Python 3",
   "language": "python",
   "name": "python3"
  },
  "language_info": {
   "codemirror_mode": {
    "name": "ipython",
    "version": 3
   },
   "file_extension": ".py",
   "mimetype": "text/x-python",
   "name": "python",
   "nbconvert_exporter": "python",
   "pygments_lexer": "ipython3",
   "version": "3.7.3"
  },
  "toc": {
   "base_numbering": 1,
   "nav_menu": {},
   "number_sections": true,
   "sideBar": true,
   "skip_h1_title": false,
   "title_cell": "Table of Contents",
   "title_sidebar": "Contents",
   "toc_cell": false,
   "toc_position": {},
   "toc_section_display": true,
   "toc_window_display": false
  }
 },
 "nbformat": 4,
 "nbformat_minor": 2
}
